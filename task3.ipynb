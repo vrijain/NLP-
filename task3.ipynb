{
  "nbformat": 4,
  "nbformat_minor": 0,
  "metadata": {
    "colab": {
      "name": "Untitled13.ipynb",
      "version": "0.3.2",
      "provenance": [],
      "include_colab_link": true
    },
    "kernelspec": {
      "name": "python3",
      "display_name": "Python 3"
    }
  },
  "cells": [
    {
      "cell_type": "markdown",
      "metadata": {
        "id": "view-in-github",
        "colab_type": "text"
      },
      "source": [
        "<a href=\"https://colab.research.google.com/github/vrijain/NLP-/blob/master/task3.ipynb\" target=\"_parent\"><img src=\"https://colab.research.google.com/assets/colab-badge.svg\" alt=\"Open In Colab\"/></a>"
      ]
    },
    {
      "metadata": {
        "id": "zjqm6HTQZ-IA",
        "colab_type": "code",
        "colab": {
          "base_uri": "https://localhost:8080/",
          "height": 476
        },
        "outputId": "63ff3357-99d3-4cfe-9527-517cc7a4ce6c"
      },
      "cell_type": "code",
      "source": [
        "import nltk\n",
        "nltk.download('cmudict')\n",
        "entries = nltk.corpus.cmudict.entries()\n",
        "len(entries)\n",
        "for entry in entries[10030:10055]:\n",
        "    print(entry)"
      ],
      "execution_count": 3,
      "outputs": [
        {
          "output_type": "stream",
          "text": [
            "[nltk_data] Downloading package cmudict to /root/nltk_data...\n",
            "[nltk_data]   Package cmudict is already up-to-date!\n",
            "('believe', ['B', 'IH0', 'L', 'IY1', 'V'])\n",
            "('believed', ['B', 'IH0', 'L', 'IY1', 'V', 'D'])\n",
            "('believer', ['B', 'AH0', 'L', 'IY1', 'V', 'ER0'])\n",
            "('believers', ['B', 'AH0', 'L', 'IY1', 'V', 'ER0', 'Z'])\n",
            "('believes', ['B', 'IH0', 'L', 'IY1', 'V', 'Z'])\n",
            "('believing', ['B', 'IH0', 'L', 'IY1', 'V', 'IH0', 'NG'])\n",
            "('beligerence', ['B', 'AH0', 'L', 'IH1', 'JH', 'ER0', 'AH0', 'N', 'S'])\n",
            "('beligerent', ['B', 'AH0', 'L', 'IH1', 'JH', 'ER0', 'AH0', 'N', 'T'])\n",
            "('belin', ['B', 'EH1', 'L', 'IH0', 'N'])\n",
            "('belinda', ['B', 'AH0', 'L', 'IH1', 'N', 'D', 'AH0'])\n",
            "('belinsky', ['B', 'IH0', 'L', 'IH1', 'N', 'S', 'K', 'IY0'])\n",
            "('belisle', ['B', 'EH1', 'L', 'AY0', 'AH0', 'L'])\n",
            "('belittle', ['B', 'IH0', 'L', 'IH1', 'T', 'AH0', 'L'])\n",
            "('belittled', ['B', 'IH0', 'L', 'IH1', 'T', 'AH0', 'L', 'D'])\n",
            "('belittles', ['B', 'IH0', 'L', 'IH1', 'T', 'AH0', 'L', 'Z'])\n",
            "('belittling', ['B', 'IH0', 'L', 'IH1', 'T', 'AH0', 'L', 'IH0', 'NG'])\n",
            "('belittling', ['B', 'IH0', 'L', 'IH1', 'T', 'L', 'IH0', 'NG'])\n",
            "('belitz', ['B', 'EH1', 'L', 'IH0', 'T', 'S'])\n",
            "('beliveau', ['B', 'EH1', 'L', 'IH0', 'V', 'OW2'])\n",
            "('belize', ['B', 'EH0', 'L', 'IY1', 'Z'])\n",
            "('belk', ['B', 'EH1', 'L', 'K'])\n",
            "('belka', ['B', 'EH1', 'L', 'K', 'AH0'])\n",
            "('belkacem', ['B', 'EH1', 'L', 'K', 'AH0', 'S', 'AH0', 'M'])\n",
            "('belke', ['B', 'EH1', 'L', 'K'])\n",
            "('belkin', ['B', 'EH1', 'L', 'K', 'IH0', 'N'])\n"
          ],
          "name": "stdout"
        }
      ]
    }
  ]
}