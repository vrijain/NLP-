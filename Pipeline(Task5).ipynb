{
 "cells": [
  {
   "cell_type": "code",
   "execution_count": 4,
   "metadata": {},
   "outputs": [
    {
     "name": "stdout",
     "output_type": "stream",
     "text": [
      "[nltk_data] Downloading package averaged_perceptron_tagger to\n",
      "[nltk_data]     C:\\Users\\ronit\\AppData\\Roaming\\nltk_data...\n",
      "[nltk_data]   Unzipping taggers\\averaged_perceptron_tagger.zip.\n",
      "[('is', 'VBZ'), ('an', 'DT'), ('Indian', 'JJ'), ('international', 'JJ'), ('cricketer', 'NN'), ('who', 'WP'), ('captained', 'VBD'), ('the', 'DT'), ('Indian', 'JJ'), ('national', 'JJ'), ('team', 'NN'), ('in', 'IN'), ('limited-overs', 'NNS'), ('formats', 'NNS'), ('from', 'IN'), ('2007', 'CD'), ('to', 'TO'), ('2016', 'CD'), ('and', 'CC'), ('in', 'IN'), ('Test', 'NNP'), ('cricket', 'NN'), ('from', 'IN'), ('2008', 'CD'), ('to', 'TO'), ('2014', 'CD'), ('.', '.')]\n",
      "[('An', 'DT'), ('attacking', 'VBG'), ('right-handed', 'JJ'), ('middle-order', 'JJ'), ('batsman', 'NN'), ('and', 'CC'), ('wicket-keeper', 'NN'), (',', ','), ('he', 'PRP'), ('is', 'VBZ'), ('widely', 'RB'), ('regarded', 'VBN'), ('as', 'IN'), ('the', 'DT'), ('greatest', 'JJS'), ('finisher', 'NN'), ('in', 'IN'), ('cricket', 'NN'), ('history', 'NN'), ('.', '.')]\n",
      "[('[', 'RB'), ('1', 'CD'), (']', 'JJ'), ('[', '$'), ('2', 'CD'), (']', 'NNP'), ('[', 'VBD'), ('3', 'CD'), (']', 'NNP'), ('[', 'VBD'), ('4', 'CD'), (']', 'NN'), ('He', 'PRP'), ('is', 'VBZ'), ('also', 'RB'), ('regarded', 'VBN'), ('as', 'IN'), ('one', 'CD'), ('of', 'IN'), ('the', 'DT'), ('best', 'JJS'), ('wicket-keepers', 'NNS'), ('in', 'IN'), ('world', 'NN'), ('cricket', 'NN'), ('and', 'CC'), ('is', 'VBZ'), ('known', 'VBN'), ('to', 'TO'), ('have', 'VB'), ('very', 'RB'), ('fast', 'JJ'), ('hands', 'NNS'), ('.', '.')]\n",
      "[('[', 'RB'), ('5', 'CD'), (']', 'JJ'), ('[', '$'), ('6', 'CD'), (']', 'NN'), ('He', 'PRP'), ('made', 'VBD'), ('his', 'PRP$'), ('One', 'CD'), ('Day', 'NNP'), ('International', 'NNP'), ('(', '('), ('ODI', 'NNP'), (')', ')'), ('debut', 'NN'), ('in', 'IN'), ('December', 'NNP'), ('2004', 'CD'), ('against', 'IN'), ('Bangladesh', 'NNP'), (',', ','), ('and', 'CC'), ('played', 'VBD'), ('his', 'PRP$'), ('first', 'JJ'), ('Test', 'NNP'), ('a', 'DT'), ('year', 'NN'), ('later', 'RB'), ('against', 'IN'), ('Sri', 'NNP'), ('Lanka', 'NNP'), ('.', '.')]\n",
      "[('Dhoni', 'NNP'), ('has', 'VBZ'), ('been', 'VBN'), ('the', 'DT'), ('recipient', 'NN'), ('of', 'IN'), ('many', 'JJ'), ('awards', 'NNS'), (',', ','), ('including', 'VBG'), ('the', 'DT'), ('ICC', 'NNP'), ('ODI', 'NNP'), ('Player', 'NNP'), ('of', 'IN'), ('the', 'DT'), ('Year', 'NNP'), ('award', 'NN'), ('in', 'IN'), ('2008', 'CD'), ('and', 'CC'), ('2009', 'CD'), ('(', '('), ('the', 'DT'), ('first', 'JJ'), ('player', 'NN'), ('to', 'TO'), ('win', 'VB'), ('the', 'DT'), ('award', 'NN'), ('twice', 'NN'), (')', ')'), (',', ','), ('the', 'DT'), ('Rajiv', 'NNP'), ('Gandhi', 'NNP'), ('Khel', 'NNP'), ('Ratna', 'NNP'), ('award', 'NN'), ('in', 'IN'), ('2007', 'CD'), (',', ','), ('the', 'DT'), ('Padma', 'NNP'), ('Shri', 'NNP'), (',', ','), ('India', 'NNP'), (\"'s\", 'POS'), ('fourth', 'JJ'), ('highest', 'JJS'), ('civilian', 'JJ'), ('honour', 'NN'), (',', ','), ('in', 'IN'), ('2009', 'CD'), ('and', 'CC'), ('the', 'DT'), ('Padma', 'NNP'), ('Bhushan', 'NNP'), (',', ','), ('India', 'NNP'), (\"'s\", 'POS'), ('third', 'JJ'), ('highest', 'JJS'), ('civilian', 'JJ'), ('honour', 'NN'), (',', ','), ('in', 'IN'), ('2018', 'CD'), ('.', '.')]\n",
      "[('[', 'RB'), ('7', 'CD'), (']', 'NN'), ('He', 'PRP'), ('was', 'VBD'), ('named', 'VBN'), ('as', 'IN'), ('the', 'DT'), ('captain', 'NN'), ('of', 'IN'), ('the', 'DT'), ('ICC', 'NNP'), ('World', 'NNP'), ('Test', 'NNP'), ('XI', 'NN'), ('in', 'IN'), ('2009', 'CD'), (',', ','), ('2010', 'CD'), ('and', 'CC'), ('2013', 'CD'), ('.', '.')]\n",
      "[('He', 'PRP'), ('has', 'VBZ'), ('also', 'RB'), ('been', 'VBN'), ('selected', 'VBN'), ('a', 'DT'), ('record', 'NN'), ('8', 'CD'), ('times', 'NNS'), ('in', 'IN'), ('ICC', 'NNP'), ('World', 'NNP'), ('ODI', 'NNP'), ('XI', 'NNP'), ('teams', 'NNS'), (',', ','), ('5', 'CD'), ('times', 'NNS'), ('as', 'IN'), ('captain', 'NN'), ('.', '.')]\n",
      "[('The', 'DT'), ('Indian', 'JJ'), ('Territorial', 'NNP'), ('Army', 'NNP'), ('conferred', 'VBD'), ('the', 'DT'), ('honorary', 'JJ'), ('rank', 'NN'), ('of', 'IN'), ('Lieutenant', 'NNP'), ('Colonel', 'NNP'), ('[', 'VBD'), ('8', 'CD'), (']', 'NN'), ('to', 'TO'), ('Dhoni', 'NNP'), ('on', 'IN'), ('1', 'CD'), ('November', 'NNP'), ('2011', 'CD'), ('.', '.')]\n",
      "[('He', 'PRP'), ('is', 'VBZ'), ('the', 'DT'), ('second', 'JJ'), ('Indian', 'JJ'), ('cricketer', 'NN'), ('after', 'IN'), ('Kapil', 'NNP'), ('Dev', 'NNP'), ('to', 'TO'), ('receive', 'VB'), ('this', 'DT'), ('honour', 'NN'), ('.', '.')]\n"
     ]
    }
   ],
   "source": [
    "import nltk\n",
    "nltk.download('averaged_perceptron_tagger')\n",
    "\n",
    "texts = [\"\"\"is an Indian international cricketer who captained the Indian national team in limited-overs formats from 2007 to 2016 and in Test cricket from 2008 to 2014. An attacking right-handed middle-order batsman and wicket-keeper, he is widely regarded as the greatest finisher in cricket history.[1][2][3][4] He is also regarded as one of the best wicket-keepers in world cricket and is known to have very fast hands.[5][6] He made his One Day International (ODI) debut in December 2004 against Bangladesh, and played his first Test a year later against Sri Lanka.\n",
    "\n",
    "Dhoni has been the recipient of many awards, including the ICC ODI Player of the Year award in 2008 and 2009 (the first player to win the award twice), the Rajiv Gandhi Khel Ratna award in 2007, the Padma Shri, India's fourth highest civilian honour, in 2009 and the Padma Bhushan, India's third highest civilian honour, in 2018.[7] He was named as the captain of the ICC World Test XI in 2009, 2010 and 2013. He has also been selected a record 8 times in ICC World ODI XI teams, 5 times as captain. The Indian Territorial Army conferred the honorary rank of Lieutenant Colonel[8] to Dhoni on 1 November 2011. He is the second Indian cricketer after Kapil Dev to receive this honour.\"\"\"]\n",
    "\n",
    "for text in texts:\n",
    "    sentences = nltk.sent_tokenize(text)\n",
    "    for sentence in sentences:\n",
    "        words = nltk.word_tokenize(sentence)\n",
    "        tagged_words = nltk.pos_tag(words)\n",
    "        print(tagged_words)"
   ]
  }
 ],
 "metadata": {
  "kernelspec": {
   "display_name": "Python 3",
   "language": "python",
   "name": "python3"
  },
  "language_info": {
   "codemirror_mode": {
    "name": "ipython",
    "version": 3
   },
   "file_extension": ".py",
   "mimetype": "text/x-python",
   "name": "python",
   "nbconvert_exporter": "python",
   "pygments_lexer": "ipython3",
   "version": "3.6.4"
  }
 },
 "nbformat": 4,
 "nbformat_minor": 2
}
