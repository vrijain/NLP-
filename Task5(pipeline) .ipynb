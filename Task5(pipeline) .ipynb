{
  "nbformat": 4,
  "nbformat_minor": 0,
  "metadata": {
    "colab": {
      "name": "Untitled12.ipynb",
      "version": "0.3.2",
      "provenance": [],
      "include_colab_link": true
    },
    "kernelspec": {
      "name": "python3",
      "display_name": "Python 3"
    }
  },
  "cells": [
    {
      "cell_type": "markdown",
      "metadata": {
        "id": "view-in-github",
        "colab_type": "text"
      },
      "source": [
        "<a href=\"https://colab.research.google.com/github/vrijain/NLP-/blob/master/Task5(pipeline)%20.ipynb\" target=\"_parent\"><img src=\"https://colab.research.google.com/assets/colab-badge.svg\" alt=\"Open In Colab\"/></a>"
      ]
    },
    {
      "metadata": {
        "id": "2mxUxl1RVzv-",
        "colab_type": "code",
        "colab": {
          "base_uri": "https://localhost:8080/",
          "height": 241
        },
        "outputId": "6df238ff-8c25-4ee6-f375-75f7e4cb39ea"
      },
      "cell_type": "code",
      "source": [
        "import nltk\n",
        "nltk.download('averaged_perceptron_tagger')\n",
        "nltk.download('punkt')\n",
        "\n",
        "texts = [\"\"\"The film's development began when Marvel Studios received a loan from Merrill Lynch in April 2005. After the success of the film Iron Man in May 2008, Marvel announced that The Avengers would be released in July 2011. With the signing of Johansson in March 2009, the film was pushed back for a 2012 release. Whedon was brought on board in April 2010 and rewrote the original screenplay by Zak Penn. Production began in April 2011 in Albuquerque, New Mexico, before moving to Cleveland, Ohio, in August and New York City in September. The film was converted to 3D in post-production.\"\"\"]\n",
        "for text in texts:\n",
        "    sentences = nltk.sent_tokenize(text)\n",
        "    for sentence in sentences:\n",
        "        words = nltk.word_tokenize(sentence)\n",
        "        tagged_words = nltk.pos_tag(words)\n",
        "        print(tagged_words)"
      ],
      "execution_count": 13,
      "outputs": [
        {
          "output_type": "stream",
          "text": [
            "[nltk_data] Downloading package averaged_perceptron_tagger to\n",
            "[nltk_data]     /root/nltk_data...\n",
            "[nltk_data]   Package averaged_perceptron_tagger is already up-to-\n",
            "[nltk_data]       date!\n",
            "[nltk_data] Downloading package punkt to /root/nltk_data...\n",
            "[nltk_data]   Package punkt is already up-to-date!\n",
            "[('The', 'DT'), ('film', 'NN'), (\"'s\", 'POS'), ('development', 'NN'), ('began', 'VBD'), ('when', 'WRB'), ('Marvel', 'NNP'), ('Studios', 'NNP'), ('received', 'VBD'), ('a', 'DT'), ('loan', 'NN'), ('from', 'IN'), ('Merrill', 'NNP'), ('Lynch', 'NNP'), ('in', 'IN'), ('April', 'NNP'), ('2005', 'CD'), ('.', '.')]\n",
            "[('After', 'IN'), ('the', 'DT'), ('success', 'NN'), ('of', 'IN'), ('the', 'DT'), ('film', 'NN'), ('Iron', 'NNP'), ('Man', 'NNP'), ('in', 'IN'), ('May', 'NNP'), ('2008', 'CD'), (',', ','), ('Marvel', 'NNP'), ('announced', 'VBD'), ('that', 'IN'), ('The', 'DT'), ('Avengers', 'NNPS'), ('would', 'MD'), ('be', 'VB'), ('released', 'VBN'), ('in', 'IN'), ('July', 'NNP'), ('2011', 'CD'), ('.', '.')]\n",
            "[('With', 'IN'), ('the', 'DT'), ('signing', 'NN'), ('of', 'IN'), ('Johansson', 'NNP'), ('in', 'IN'), ('March', 'NNP'), ('2009', 'CD'), (',', ','), ('the', 'DT'), ('film', 'NN'), ('was', 'VBD'), ('pushed', 'VBN'), ('back', 'RP'), ('for', 'IN'), ('a', 'DT'), ('2012', 'CD'), ('release', 'NN'), ('.', '.')]\n",
            "[('Whedon', 'NNP'), ('was', 'VBD'), ('brought', 'VBN'), ('on', 'IN'), ('board', 'NN'), ('in', 'IN'), ('April', 'NNP'), ('2010', 'CD'), ('and', 'CC'), ('rewrote', 'VB'), ('the', 'DT'), ('original', 'JJ'), ('screenplay', 'NN'), ('by', 'IN'), ('Zak', 'NNP'), ('Penn', 'NNP'), ('.', '.')]\n",
            "[('Production', 'NN'), ('began', 'VBD'), ('in', 'IN'), ('April', 'NNP'), ('2011', 'CD'), ('in', 'IN'), ('Albuquerque', 'NNP'), (',', ','), ('New', 'NNP'), ('Mexico', 'NNP'), (',', ','), ('before', 'IN'), ('moving', 'VBG'), ('to', 'TO'), ('Cleveland', 'NNP'), (',', ','), ('Ohio', 'NNP'), (',', ','), ('in', 'IN'), ('August', 'NNP'), ('and', 'CC'), ('New', 'NNP'), ('York', 'NNP'), ('City', 'NNP'), ('in', 'IN'), ('September', 'NNP'), ('.', '.')]\n",
            "[('The', 'DT'), ('film', 'NN'), ('was', 'VBD'), ('converted', 'VBN'), ('to', 'TO'), ('3D', 'CD'), ('in', 'IN'), ('post-production', 'NN'), ('.', '.')]\n"
          ],
          "name": "stdout"
        }
      ]
    }
  ]
}